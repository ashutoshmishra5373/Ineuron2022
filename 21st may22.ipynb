{
 "cells": [
  {
   "cell_type": "code",
   "execution_count": null,
   "id": "16ebc83a",
   "metadata": {},
   "outputs": [],
   "source": [
    "#example of list\n"
   ]
  },
  {
   "cell_type": "code",
   "execution_count": 3,
   "id": "6f2674b0",
   "metadata": {},
   "outputs": [],
   "source": [
    "l=[1,2,3,4,\"ashu\",True,[\"ashu\",1,2]]"
   ]
  },
  {
   "cell_type": "code",
   "execution_count": 4,
   "id": "f77580a6",
   "metadata": {},
   "outputs": [
    {
     "data": {
      "text/plain": [
       "1"
      ]
     },
     "execution_count": 4,
     "metadata": {},
     "output_type": "execute_result"
    }
   ],
   "source": [
    "l[0]"
   ]
  },
  {
   "cell_type": "code",
   "execution_count": 5,
   "id": "3475b899",
   "metadata": {},
   "outputs": [
    {
     "data": {
      "text/plain": [
       "7"
      ]
     },
     "execution_count": 5,
     "metadata": {},
     "output_type": "execute_result"
    }
   ],
   "source": [
    "len(l)"
   ]
  },
  {
   "cell_type": "code",
   "execution_count": 6,
   "id": "eb209f8c",
   "metadata": {},
   "outputs": [
    {
     "data": {
      "text/plain": [
       "[1, 2, 3, 4, 'ashu']"
      ]
     },
     "execution_count": 6,
     "metadata": {},
     "output_type": "execute_result"
    }
   ],
   "source": [
    " l[0:5]"
   ]
  },
  {
   "cell_type": "code",
   "execution_count": 7,
   "id": "2cc73356",
   "metadata": {},
   "outputs": [
    {
     "data": {
      "text/plain": [
       "['ashu', 1, 2]"
      ]
     },
     "execution_count": 7,
     "metadata": {},
     "output_type": "execute_result"
    }
   ],
   "source": [
    "l[-1]"
   ]
  },
  {
   "cell_type": "code",
   "execution_count": 8,
   "id": "4065bfec",
   "metadata": {},
   "outputs": [
    {
     "data": {
      "text/plain": [
       "[1, 2, 3, 4, 'ashu', True, ['ashu', 1, 2]]"
      ]
     },
     "execution_count": 8,
     "metadata": {},
     "output_type": "execute_result"
    }
   ],
   "source": [
    "l[0:7:1]"
   ]
  },
  {
   "cell_type": "code",
   "execution_count": 9,
   "id": "c75b5303",
   "metadata": {},
   "outputs": [
    {
     "data": {
      "text/plain": [
       "[]"
      ]
     },
     "execution_count": 9,
     "metadata": {},
     "output_type": "execute_result"
    }
   ],
   "source": [
    "l[0:7:-1]   #scale cocncept-:cause contradiction"
   ]
  },
  {
   "cell_type": "code",
   "execution_count": 10,
   "id": "116ab5b7",
   "metadata": {},
   "outputs": [
    {
     "data": {
      "text/plain": [
       "[1,\n",
       " 2,\n",
       " 3,\n",
       " 4,\n",
       " 'ashu',\n",
       " True,\n",
       " ['ashu', 1, 2],\n",
       " 1,\n",
       " 2,\n",
       " 3,\n",
       " 4,\n",
       " 'ashu',\n",
       " True,\n",
       " ['ashu', 1, 2]]"
      ]
     },
     "execution_count": 10,
     "metadata": {},
     "output_type": "execute_result"
    }
   ],
   "source": [
    " l*2"
   ]
  },
  {
   "cell_type": "code",
   "execution_count": 11,
   "id": "b50ab2ad",
   "metadata": {},
   "outputs": [
    {
     "data": {
      "text/plain": [
       "True"
      ]
     },
     "execution_count": 11,
     "metadata": {},
     "output_type": "execute_result"
    }
   ],
   "source": [
    "2 in l"
   ]
  },
  {
   "cell_type": "code",
   "execution_count": 12,
   "id": "016509a1",
   "metadata": {},
   "outputs": [
    {
     "ename": "TypeError",
     "evalue": "'>' not supported between instances of 'str' and 'int'",
     "output_type": "error",
     "traceback": [
      "\u001b[1;31m---------------------------------------------------------------------------\u001b[0m",
      "\u001b[1;31mTypeError\u001b[0m                                 Traceback (most recent call last)",
      "\u001b[1;32m~\\AppData\\Local\\Temp/ipykernel_11516/1790536805.py\u001b[0m in \u001b[0;36m<module>\u001b[1;34m\u001b[0m\n\u001b[1;32m----> 1\u001b[1;33m \u001b[0mmax\u001b[0m\u001b[1;33m(\u001b[0m\u001b[0ml\u001b[0m\u001b[1;33m)\u001b[0m\u001b[1;33m\u001b[0m\u001b[1;33m\u001b[0m\u001b[0m\n\u001b[0m",
      "\u001b[1;31mTypeError\u001b[0m: '>' not supported between instances of 'str' and 'int'"
     ]
    }
   ],
   "source": [
    "max(l) #not working as same type of dta type is not there"
   ]
  },
  {
   "cell_type": "code",
   "execution_count": 14,
   "id": "c9fa0ba8",
   "metadata": {},
   "outputs": [],
   "source": [
    "l2=[\"ashu\",\"sudh\",\"flora\"]"
   ]
  },
  {
   "cell_type": "markdown",
   "id": "d890d9cf",
   "metadata": {},
   "source": [
    "max(l2)"
   ]
  },
  {
   "cell_type": "code",
   "execution_count": 15,
   "id": "38117143",
   "metadata": {},
   "outputs": [
    {
     "data": {
      "text/plain": [
       "'sudh'"
      ]
     },
     "execution_count": 15,
     "metadata": {},
     "output_type": "execute_result"
    }
   ],
   "source": [
    "max(l2)"
   ]
  },
  {
   "cell_type": "code",
   "execution_count": 16,
   "id": "34df0a6e",
   "metadata": {},
   "outputs": [],
   "source": [
    "l2.append(\"siblu\")"
   ]
  },
  {
   "cell_type": "code",
   "execution_count": 17,
   "id": "d364fd88",
   "metadata": {},
   "outputs": [
    {
     "data": {
      "text/plain": [
       "['ashu', 'sudh', 'flora', 'siblu']"
      ]
     },
     "execution_count": 17,
     "metadata": {},
     "output_type": "execute_result"
    }
   ],
   "source": [
    "l2"
   ]
  },
  {
   "cell_type": "code",
   "execution_count": 19,
   "id": "bb24aa40",
   "metadata": {},
   "outputs": [
    {
     "data": {
      "text/plain": [
       "'siblu'"
      ]
     },
     "execution_count": 19,
     "metadata": {},
     "output_type": "execute_result"
    }
   ],
   "source": [
    " l2.pop()"
   ]
  },
  {
   "cell_type": "code",
   "execution_count": 20,
   "id": "aac73248",
   "metadata": {},
   "outputs": [],
   "source": [
    "l2.append(\"jyotish\")"
   ]
  },
  {
   "cell_type": "code",
   "execution_count": 21,
   "id": "7fd10cb2",
   "metadata": {},
   "outputs": [
    {
     "data": {
      "text/plain": [
       "'sudh'"
      ]
     },
     "execution_count": 21,
     "metadata": {},
     "output_type": "execute_result"
    }
   ],
   "source": [
    "l2.pop(1)"
   ]
  },
  {
   "cell_type": "code",
   "execution_count": 22,
   "id": "3dcd2db9",
   "metadata": {},
   "outputs": [],
   "source": [
    "l2.reverse()\n",
    "#will change permanently"
   ]
  },
  {
   "cell_type": "code",
   "execution_count": 23,
   "id": "ac1fcad5",
   "metadata": {},
   "outputs": [
    {
     "data": {
      "text/plain": [
       "['jyotish', 'flora', 'ashu']"
      ]
     },
     "execution_count": 23,
     "metadata": {},
     "output_type": "execute_result"
    }
   ],
   "source": [
    "l2"
   ]
  },
  {
   "cell_type": "code",
   "execution_count": 28,
   "id": "5a89aef3",
   "metadata": {},
   "outputs": [],
   "source": [
    "l3=[3,4,5,7,9,12,13,17,16,1,33]"
   ]
  },
  {
   "cell_type": "code",
   "execution_count": 29,
   "id": "073d7171",
   "metadata": {},
   "outputs": [],
   "source": [
    "l3.sort()"
   ]
  },
  {
   "cell_type": "code",
   "execution_count": 30,
   "id": "cb1bf4cd",
   "metadata": {},
   "outputs": [
    {
     "data": {
      "text/plain": [
       "[1, 3, 4, 5, 7, 9, 12, 13, 16, 17, 33]"
      ]
     },
     "execution_count": 30,
     "metadata": {},
     "output_type": "execute_result"
    }
   ],
   "source": [
    "l3\n"
   ]
  },
  {
   "cell_type": "code",
   "execution_count": 32,
   "id": "e861ead2",
   "metadata": {},
   "outputs": [],
   "source": [
    "l3.sort(reverse=True)"
   ]
  },
  {
   "cell_type": "code",
   "execution_count": 33,
   "id": "15fd69c8",
   "metadata": {},
   "outputs": [
    {
     "data": {
      "text/plain": [
       "[33, 17, 16, 13, 12, 9, 7, 5, 4, 3, 1]"
      ]
     },
     "execution_count": 33,
     "metadata": {},
     "output_type": "execute_result"
    }
   ],
   "source": [
    "l3"
   ]
  },
  {
   "cell_type": "code",
   "execution_count": 35,
   "id": "5165b867",
   "metadata": {},
   "outputs": [],
   "source": [
    "l4=[l,l2,l3]"
   ]
  },
  {
   "cell_type": "code",
   "execution_count": 36,
   "id": "abf35336",
   "metadata": {},
   "outputs": [
    {
     "data": {
      "text/plain": [
       "[[1, 2, 3, 4, 'ashu', True, ['ashu', 1, 2]],\n",
       " ['jyotish', 'flora', 'ashu'],\n",
       " [33, 17, 16, 13, 12, 9, 7, 5, 4, 3, 1]]"
      ]
     },
     "execution_count": 36,
     "metadata": {},
     "output_type": "execute_result"
    }
   ],
   "source": [
    "l4\n"
   ]
  },
  {
   "cell_type": "code",
   "execution_count": 37,
   "id": "6807e271",
   "metadata": {},
   "outputs": [
    {
     "data": {
      "text/plain": [
       "[33, 17, 16, 13, 12, 9, 7, 5, 4, 3, 1]"
      ]
     },
     "execution_count": 37,
     "metadata": {},
     "output_type": "execute_result"
    }
   ],
   "source": [
    "l4[2]"
   ]
  },
  {
   "cell_type": "code",
   "execution_count": 38,
   "id": "b5eff2cb",
   "metadata": {},
   "outputs": [
    {
     "data": {
      "text/plain": [
       "17"
      ]
     },
     "execution_count": 38,
     "metadata": {},
     "output_type": "execute_result"
    }
   ],
   "source": [
    "l4[2][1]"
   ]
  },
  {
   "cell_type": "code",
   "execution_count": 39,
   "id": "c3fd2548",
   "metadata": {},
   "outputs": [
    {
     "data": {
      "text/plain": [
       "0"
      ]
     },
     "execution_count": 39,
     "metadata": {},
     "output_type": "execute_result"
    }
   ],
   "source": [
    "l4.count(2)"
   ]
  },
  {
   "cell_type": "code",
   "execution_count": 40,
   "id": "a89c7c4d",
   "metadata": {},
   "outputs": [],
   "source": [
    "l5 =[1,7,9,23,43]"
   ]
  },
  {
   "cell_type": "code",
   "execution_count": 41,
   "id": "6560bf04",
   "metadata": {},
   "outputs": [],
   "source": [
    "l5.append([3,89])"
   ]
  },
  {
   "cell_type": "code",
   "execution_count": 42,
   "id": "c1f81b8d",
   "metadata": {},
   "outputs": [
    {
     "data": {
      "text/plain": [
       "[1, 7, 9, 23, 43, [3, 89]]"
      ]
     },
     "execution_count": 42,
     "metadata": {},
     "output_type": "execute_result"
    }
   ],
   "source": [
    "l5\n"
   ]
  },
  {
   "cell_type": "code",
   "execution_count": 43,
   "id": "fb20a0f2",
   "metadata": {},
   "outputs": [],
   "source": [
    "l5.extend([76,98])"
   ]
  },
  {
   "cell_type": "code",
   "execution_count": 44,
   "id": "c6cf00ce",
   "metadata": {},
   "outputs": [
    {
     "data": {
      "text/plain": [
       "[1, 7, 9, 23, 43, [3, 89], 76, 98]"
      ]
     },
     "execution_count": 44,
     "metadata": {},
     "output_type": "execute_result"
    }
   ],
   "source": [
    "l5"
   ]
  },
  {
   "cell_type": "code",
   "execution_count": 45,
   "id": "321992f4",
   "metadata": {},
   "outputs": [],
   "source": [
    "l5.extend(\"ashu\")"
   ]
  },
  {
   "cell_type": "code",
   "execution_count": 46,
   "id": "83750bd5",
   "metadata": {},
   "outputs": [
    {
     "data": {
      "text/plain": [
       "[1, 7, 9, 23, 43, [3, 89], 76, 98, 'a', 's', 'h', 'u']"
      ]
     },
     "execution_count": 46,
     "metadata": {},
     "output_type": "execute_result"
    }
   ],
   "source": [
    "l5"
   ]
  },
  {
   "cell_type": "code",
   "execution_count": 47,
   "id": "c292bf4a",
   "metadata": {},
   "outputs": [
    {
     "data": {
      "text/plain": [
       "0"
      ]
     },
     "execution_count": 47,
     "metadata": {},
     "output_type": "execute_result"
    }
   ],
   "source": [
    "l5.index(1)"
   ]
  },
  {
   "cell_type": "code",
   "execution_count": 48,
   "id": "3a023a19",
   "metadata": {},
   "outputs": [],
   "source": [
    "l6=[1,67,45,36,90]"
   ]
  },
  {
   "cell_type": "code",
   "execution_count": 49,
   "id": "74153624",
   "metadata": {},
   "outputs": [],
   "source": [
    "l6.insert(3,\"ashu\")"
   ]
  },
  {
   "cell_type": "code",
   "execution_count": 50,
   "id": "1ae48c42",
   "metadata": {},
   "outputs": [
    {
     "data": {
      "text/plain": [
       "[1, 67, 45, 'ashu', 36, 90]"
      ]
     },
     "execution_count": 50,
     "metadata": {},
     "output_type": "execute_result"
    }
   ],
   "source": [
    "l6"
   ]
  },
  {
   "cell_type": "code",
   "execution_count": 51,
   "id": "c030e899",
   "metadata": {},
   "outputs": [
    {
     "data": {
      "text/plain": [
       "90"
      ]
     },
     "execution_count": 51,
     "metadata": {},
     "output_type": "execute_result"
    }
   ],
   "source": [
    "l6.pop()"
   ]
  },
  {
   "cell_type": "code",
   "execution_count": 52,
   "id": "c6658cac",
   "metadata": {},
   "outputs": [
    {
     "data": {
      "text/plain": [
       "67"
      ]
     },
     "execution_count": 52,
     "metadata": {},
     "output_type": "execute_result"
    }
   ],
   "source": [
    "l6.pop(1)"
   ]
  },
  {
   "cell_type": "code",
   "execution_count": 53,
   "id": "414fd2fb",
   "metadata": {},
   "outputs": [],
   "source": [
    "l6.remove(45)"
   ]
  },
  {
   "cell_type": "code",
   "execution_count": 54,
   "id": "5aeef0ce",
   "metadata": {},
   "outputs": [
    {
     "data": {
      "text/plain": [
       "[1, 'ashu', 36]"
      ]
     },
     "execution_count": 54,
     "metadata": {},
     "output_type": "execute_result"
    }
   ],
   "source": [
    "l6"
   ]
  },
  {
   "cell_type": "code",
   "execution_count": null,
   "id": "cc78c48b",
   "metadata": {},
   "outputs": [],
   "source": [
    " #list are mutable but tuples and stings are nonmutable"
   ]
  },
  {
   "cell_type": "code",
   "execution_count": null,
   "id": "a0419e91",
   "metadata": {},
   "outputs": [],
   "source": [
    "#tuples\n"
   ]
  },
  {
   "cell_type": "code",
   "execution_count": 55,
   "id": "3f5a8717",
   "metadata": {},
   "outputs": [],
   "source": [
    "t=(1,2,3,4,5,6,\"ashu\",False)"
   ]
  },
  {
   "cell_type": "code",
   "execution_count": 57,
   "id": "25927cac",
   "metadata": {},
   "outputs": [
    {
     "data": {
      "text/plain": [
       "tuple"
      ]
     },
     "execution_count": 57,
     "metadata": {},
     "output_type": "execute_result"
    }
   ],
   "source": [
    "type(t)"
   ]
  },
  {
   "cell_type": "code",
   "execution_count": 59,
   "id": "212d8273",
   "metadata": {},
   "outputs": [
    {
     "data": {
      "text/plain": [
       "1"
      ]
     },
     "execution_count": 59,
     "metadata": {},
     "output_type": "execute_result"
    }
   ],
   "source": [
    "t[0]"
   ]
  },
  {
   "cell_type": "code",
   "execution_count": 60,
   "id": "b7355564",
   "metadata": {},
   "outputs": [
    {
     "data": {
      "text/plain": [
       "False"
      ]
     },
     "execution_count": 60,
     "metadata": {},
     "output_type": "execute_result"
    }
   ],
   "source": [
    "t[-1]"
   ]
  },
  {
   "cell_type": "code",
   "execution_count": 61,
   "id": "fcc3e645",
   "metadata": {},
   "outputs": [
    {
     "data": {
      "text/plain": [
       "(1, 2, 3, 4)"
      ]
     },
     "execution_count": 61,
     "metadata": {},
     "output_type": "execute_result"
    }
   ],
   "source": [
    "t[0:4]"
   ]
  },
  {
   "cell_type": "code",
   "execution_count": 62,
   "id": "eadf7de9",
   "metadata": {},
   "outputs": [
    {
     "data": {
      "text/plain": [
       "(False, 'ashu', 6, 5, 4, 3, 2, 1)"
      ]
     },
     "execution_count": 62,
     "metadata": {},
     "output_type": "execute_result"
    }
   ],
   "source": [
    "t[-1:-100:-1]"
   ]
  },
  {
   "cell_type": "code",
   "execution_count": 63,
   "id": "6d118626",
   "metadata": {},
   "outputs": [
    {
     "data": {
      "text/plain": [
       "()"
      ]
     },
     "execution_count": 63,
     "metadata": {},
     "output_type": "execute_result"
    }
   ],
   "source": [
    "t[0:4:-1]"
   ]
  },
  {
   "cell_type": "code",
   "execution_count": 64,
   "id": "4bf63851",
   "metadata": {},
   "outputs": [],
   "source": [
    "t1=(1,45,65,76,90)"
   ]
  },
  {
   "cell_type": "code",
   "execution_count": 65,
   "id": "708d2bfd",
   "metadata": {},
   "outputs": [
    {
     "data": {
      "text/plain": [
       "(1, 2, 3, 4, 5, 6, 'ashu', False, 1, 45, 65, 76, 90)"
      ]
     },
     "execution_count": 65,
     "metadata": {},
     "output_type": "execute_result"
    }
   ],
   "source": [
    "t+t1"
   ]
  },
  {
   "cell_type": "code",
   "execution_count": 66,
   "id": "2100dfa1",
   "metadata": {},
   "outputs": [
    {
     "data": {
      "text/plain": [
       "2"
      ]
     },
     "execution_count": 66,
     "metadata": {},
     "output_type": "execute_result"
    }
   ],
   "source": [
    "t.index(3)"
   ]
  },
  {
   "cell_type": "code",
   "execution_count": 67,
   "id": "a8b0decb",
   "metadata": {},
   "outputs": [
    {
     "data": {
      "text/plain": [
       "[1, 2, 3, 4, 5, 6, 'ashu', False]"
      ]
     },
     "execution_count": 67,
     "metadata": {},
     "output_type": "execute_result"
    }
   ],
   "source": [
    "list(t)"
   ]
  },
  {
   "cell_type": "code",
   "execution_count": 68,
   "id": "85634636",
   "metadata": {},
   "outputs": [
    {
     "data": {
      "text/plain": [
       "(1, 2, 3, 4, 5, 6, 'ashu', False)"
      ]
     },
     "execution_count": 68,
     "metadata": {},
     "output_type": "execute_result"
    }
   ],
   "source": [
    "tuple(t)"
   ]
  },
  {
   "cell_type": "code",
   "execution_count": null,
   "id": "91f6d5e5",
   "metadata": {},
   "outputs": [],
   "source": [
    "#Dictionary"
   ]
  },
  {
   "cell_type": "code",
   "execution_count": 69,
   "id": "bceec87b",
   "metadata": {},
   "outputs": [],
   "source": [
    "d={}"
   ]
  },
  {
   "cell_type": "code",
   "execution_count": 70,
   "id": "65b9f980",
   "metadata": {},
   "outputs": [
    {
     "data": {
      "text/plain": [
       "dict"
      ]
     },
     "execution_count": 70,
     "metadata": {},
     "output_type": "execute_result"
    }
   ],
   "source": [
    "type(d)"
   ]
  },
  {
   "cell_type": "code",
   "execution_count": 71,
   "id": "1ce5216b",
   "metadata": {},
   "outputs": [],
   "source": [
    "d1={1}\n"
   ]
  },
  {
   "cell_type": "code",
   "execution_count": 72,
   "id": "4265d0bc",
   "metadata": {},
   "outputs": [
    {
     "data": {
      "text/plain": [
       "set"
      ]
     },
     "execution_count": 72,
     "metadata": {},
     "output_type": "execute_result"
    }
   ],
   "source": [
    "type(d1)"
   ]
  },
  {
   "cell_type": "code",
   "execution_count": 73,
   "id": "71917490",
   "metadata": {},
   "outputs": [],
   "source": [
    "d2={\"key1\":\"value\",1:\"ashu\",3:5,\"key4\":6}"
   ]
  },
  {
   "cell_type": "code",
   "execution_count": 76,
   "id": "d7d905ae",
   "metadata": {},
   "outputs": [
    {
     "data": {
      "text/plain": [
       "5"
      ]
     },
     "execution_count": 76,
     "metadata": {},
     "output_type": "execute_result"
    }
   ],
   "source": [
    "d2[3]"
   ]
  },
  {
   "cell_type": "code",
   "execution_count": 77,
   "id": "c8000d9b",
   "metadata": {},
   "outputs": [
    {
     "data": {
      "text/plain": [
       "6"
      ]
     },
     "execution_count": 77,
     "metadata": {},
     "output_type": "execute_result"
    }
   ],
   "source": [
    "d2[\"key4\"]"
   ]
  },
  {
   "cell_type": "code",
   "execution_count": 87,
   "id": "8a8c58f6",
   "metadata": {},
   "outputs": [],
   "source": [
    "d3={\"key1\":\"ashu\",\"tech\":[\"java\",\"c\",\"python\"]}"
   ]
  },
  {
   "cell_type": "code",
   "execution_count": 79,
   "id": "c840234e",
   "metadata": {},
   "outputs": [
    {
     "data": {
      "text/plain": [
       "['java', 'c', 'python']"
      ]
     },
     "execution_count": 79,
     "metadata": {},
     "output_type": "execute_result"
    }
   ],
   "source": [
    "d3[\"tech\"]"
   ]
  },
  {
   "cell_type": "code",
   "execution_count": 80,
   "id": "19e2f38a",
   "metadata": {},
   "outputs": [
    {
     "data": {
      "text/plain": [
       "False"
      ]
     },
     "execution_count": 80,
     "metadata": {},
     "output_type": "execute_result"
    }
   ],
   "source": [
    "\"java\" in d3"
   ]
  },
  {
   "cell_type": "code",
   "execution_count": 81,
   "id": "462a5e40",
   "metadata": {},
   "outputs": [
    {
     "data": {
      "text/plain": [
       "True"
      ]
     },
     "execution_count": 81,
     "metadata": {},
     "output_type": "execute_result"
    }
   ],
   "source": [
    "\"java\" in d3[\"tech\"]"
   ]
  },
  {
   "cell_type": "code",
   "execution_count": 88,
   "id": "2b8b84d6",
   "metadata": {},
   "outputs": [],
   "source": [
    "d3={\"key4\":\"ashu1\"}"
   ]
  },
  {
   "cell_type": "code",
   "execution_count": 83,
   "id": "c7d7030d",
   "metadata": {},
   "outputs": [
    {
     "data": {
      "text/plain": [
       "{'key4': 'ashu1'}"
      ]
     },
     "execution_count": 83,
     "metadata": {},
     "output_type": "execute_result"
    }
   ],
   "source": [
    "d3"
   ]
  },
  {
   "cell_type": "code",
   "execution_count": 89,
   "id": "cec157d8",
   "metadata": {},
   "outputs": [
    {
     "data": {
      "text/plain": [
       "{'key4': 'ashu1'}"
      ]
     },
     "execution_count": 89,
     "metadata": {},
     "output_type": "execute_result"
    }
   ],
   "source": [
    "d3"
   ]
  },
  {
   "cell_type": "code",
   "execution_count": 90,
   "id": "7f33d268",
   "metadata": {},
   "outputs": [],
   "source": [
    "d4={\"key1\":\"mama\"}"
   ]
  },
  {
   "cell_type": "code",
   "execution_count": 92,
   "id": "182f7761",
   "metadata": {},
   "outputs": [
    {
     "ename": "KeyError",
     "evalue": "'d3'",
     "output_type": "error",
     "traceback": [
      "\u001b[1;31m---------------------------------------------------------------------------\u001b[0m",
      "\u001b[1;31mKeyError\u001b[0m                                  Traceback (most recent call last)",
      "\u001b[1;32m~\\AppData\\Local\\Temp/ipykernel_11516/3832243386.py\u001b[0m in \u001b[0;36m<module>\u001b[1;34m\u001b[0m\n\u001b[1;32m----> 1\u001b[1;33m \u001b[0md4\u001b[0m\u001b[1;33m[\u001b[0m\u001b[1;34m'd3'\u001b[0m\u001b[1;33m]\u001b[0m\u001b[1;33m\u001b[0m\u001b[1;33m\u001b[0m\u001b[0m\n\u001b[0m",
      "\u001b[1;31mKeyError\u001b[0m: 'd3'"
     ]
    }
   ],
   "source": [
    "d6"
   ]
  },
  {
   "cell_type": "code",
   "execution_count": 94,
   "id": "f978a4e4",
   "metadata": {},
   "outputs": [
    {
     "data": {
      "text/plain": [
       "dict_keys(['key4'])"
      ]
     },
     "execution_count": 94,
     "metadata": {},
     "output_type": "execute_result"
    }
   ],
   "source": [
    "d3.keys()"
   ]
  },
  {
   "cell_type": "code",
   "execution_count": 95,
   "id": "282c33a3",
   "metadata": {},
   "outputs": [],
   "source": [
    "#set"
   ]
  },
  {
   "cell_type": "code",
   "execution_count": 96,
   "id": "56fe2cf6",
   "metadata": {},
   "outputs": [],
   "source": [
    "s={1,2,3,3,31,0,9,45}"
   ]
  },
  {
   "cell_type": "code",
   "execution_count": 97,
   "id": "83168955",
   "metadata": {},
   "outputs": [
    {
     "data": {
      "text/plain": [
       "{0, 1, 2, 3, 9, 31, 45}"
      ]
     },
     "execution_count": 97,
     "metadata": {},
     "output_type": "execute_result"
    }
   ],
   "source": [
    "s #return unique"
   ]
  },
  {
   "cell_type": "code",
   "execution_count": 104,
   "id": "f2d38399",
   "metadata": {},
   "outputs": [],
   "source": [
    "s1={23,\"sudh\",45,23,12,89,89,45,23,1,6,\"bi\",\"ashu\",\"bi\"}"
   ]
  },
  {
   "cell_type": "code",
   "execution_count": 105,
   "id": "9e81041e",
   "metadata": {},
   "outputs": [
    {
     "data": {
      "text/plain": [
       "{1, 12, 23, 45, 6, 89, 'ashu', 'bi', 'sudh'}"
      ]
     },
     "execution_count": 105,
     "metadata": {},
     "output_type": "execute_result"
    }
   ],
   "source": [
    "s1 "
   ]
  },
  {
   "cell_type": "code",
   "execution_count": 106,
   "id": "2f7233a4",
   "metadata": {},
   "outputs": [],
   "source": [
    "#Assignment"
   ]
  },
  {
   "cell_type": "code",
   "execution_count": 116,
   "id": "a119f01d",
   "metadata": {},
   "outputs": [],
   "source": [
    " l=[3,4,5,6,7,[234,456,67,8,78,78],[345,56,87,8,98,9],{\"key1\":\"sudh\"}]"
   ]
  },
  {
   "cell_type": "code",
   "execution_count": 118,
   "id": "4f8dc850",
   "metadata": {},
   "outputs": [],
   "source": [
    "l.reverse()"
   ]
  },
  {
   "cell_type": "code",
   "execution_count": 119,
   "id": "d3114c3f",
   "metadata": {},
   "outputs": [
    {
     "data": {
      "text/plain": [
       "[3,\n",
       " 4,\n",
       " 5,\n",
       " 6,\n",
       " 7,\n",
       " [234, 456, 67, 8, 78, 78],\n",
       " [345, 56, 87, 8, 98, 9],\n",
       " {'key1': 'sudh'}]"
      ]
     },
     "execution_count": 119,
     "metadata": {},
     "output_type": "execute_result"
    }
   ],
   "source": [
    "l\n"
   ]
  },
  {
   "cell_type": "code",
   "execution_count": 122,
   "id": "3f37db08",
   "metadata": {},
   "outputs": [
    {
     "data": {
      "text/plain": [
       "234"
      ]
     },
     "execution_count": 122,
     "metadata": {},
     "output_type": "execute_result"
    }
   ],
   "source": [
    "l[5][0]\n"
   ]
  },
  {
   "cell_type": "code",
   "execution_count": 123,
   "id": "c9fd143b",
   "metadata": {},
   "outputs": [
    {
     "data": {
      "text/plain": [
       "456"
      ]
     },
     "execution_count": 123,
     "metadata": {},
     "output_type": "execute_result"
    }
   ],
   "source": [
    "l[5][1]"
   ]
  },
  {
   "cell_type": "code",
   "execution_count": 124,
   "id": "a9b5b775",
   "metadata": {},
   "outputs": [
    {
     "data": {
      "text/plain": [
       "[234, 456, 67, 8, 78, 78]"
      ]
     },
     "execution_count": 124,
     "metadata": {},
     "output_type": "execute_result"
    }
   ],
   "source": [
    "l[5]"
   ]
  },
  {
   "cell_type": "code",
   "execution_count": 128,
   "id": "0a2fc557",
   "metadata": {},
   "outputs": [
    {
     "data": {
      "text/plain": [
       "'sudh'"
      ]
     },
     "execution_count": 128,
     "metadata": {},
     "output_type": "execute_result"
    }
   ],
   "source": [
    "l[7][\"key1\"]"
   ]
  },
  {
   "cell_type": "code",
   "execution_count": 130,
   "id": "60342101",
   "metadata": {},
   "outputs": [
    {
     "data": {
      "text/plain": [
       "dict_keys(['key1'])"
      ]
     },
     "execution_count": 130,
     "metadata": {},
     "output_type": "execute_result"
    }
   ],
   "source": [
    "l[7].keys()"
   ]
  },
  {
   "cell_type": "code",
   "execution_count": 131,
   "id": "096f84f6",
   "metadata": {},
   "outputs": [
    {
     "data": {
      "text/plain": [
       "dict_values(['sudh'])"
      ]
     },
     "execution_count": 131,
     "metadata": {},
     "output_type": "execute_result"
    }
   ],
   "source": [
    "l[7].values()"
   ]
  },
  {
   "cell_type": "code",
   "execution_count": null,
   "id": "02b32703",
   "metadata": {},
   "outputs": [],
   "source": []
  }
 ],
 "metadata": {
  "kernelspec": {
   "display_name": "Python 3 (ipykernel)",
   "language": "python",
   "name": "python3"
  },
  "language_info": {
   "codemirror_mode": {
    "name": "ipython",
    "version": 3
   },
   "file_extension": ".py",
   "mimetype": "text/x-python",
   "name": "python",
   "nbconvert_exporter": "python",
   "pygments_lexer": "ipython3",
   "version": "3.9.7"
  }
 },
 "nbformat": 4,
 "nbformat_minor": 5
}
