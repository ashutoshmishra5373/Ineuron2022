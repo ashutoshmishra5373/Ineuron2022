{
 "cells": [
  {
   "cell_type": "code",
   "execution_count": 2,
   "id": "1884a14f",
   "metadata": {},
   "outputs": [],
   "source": [
    "l=[1,2,3,4,\"sudh\",\"kumar\",45.67]"
   ]
  },
  {
   "cell_type": "code",
   "execution_count": 3,
   "id": "fcac2eef",
   "metadata": {},
   "outputs": [
    {
     "name": "stdout",
     "output_type": "stream",
     "text": [
      "1\n",
      "2\n",
      "3\n",
      "4\n",
      "sudh\n",
      "kumar\n",
      "45.67\n"
     ]
    }
   ],
   "source": [
    "for i in l  :\n",
    "    print (i)"
   ]
  },
  {
   "cell_type": "code",
   "execution_count": 5,
   "id": "d01a3822",
   "metadata": {},
   "outputs": [
    {
     "name": "stdout",
     "output_type": "stream",
     "text": [
      "a\n",
      "s\n",
      "h\n",
      "u\n"
     ]
    }
   ],
   "source": [
    "s=\"ashu\"\n",
    "for i in s:\n",
    "    print(i)"
   ]
  },
  {
   "cell_type": "code",
   "execution_count": 3,
   "id": "2e0e1f77",
   "metadata": {},
   "outputs": [
    {
     "name": "stdout",
     "output_type": "stream",
     "text": [
      "A\n",
      "s\n",
      "h\n",
      "u\n",
      "t\n",
      "o\n",
      "s\n",
      "h\n",
      "if loop is going to complete itself then it will exceute else 7\n"
     ]
    }
   ],
   "source": [
    "s=7\n",
    "l=\"Ashutosh\"\n",
    "for i in l:\n",
    "    print(i)\n",
    "else:\n",
    "    print(\"if loop is going to complete itself then it will exceute else\",s)"
   ]
  },
  {
   "cell_type": "code",
   "execution_count": 4,
   "id": "6607b78d",
   "metadata": {},
   "outputs": [],
   "source": [
    "t=(4,5,6,7,8,9,\"ashu\")"
   ]
  },
  {
   "cell_type": "code",
   "execution_count": 5,
   "id": "4ab9354a",
   "metadata": {},
   "outputs": [
    {
     "data": {
      "text/plain": [
       "(4, 5, 6, 7, 8, 9, 'ashu')"
      ]
     },
     "execution_count": 5,
     "metadata": {},
     "output_type": "execute_result"
    }
   ],
   "source": [
    "t"
   ]
  },
  {
   "cell_type": "code",
   "execution_count": 6,
   "id": "9bbdff98",
   "metadata": {},
   "outputs": [
    {
     "data": {
      "text/plain": [
       "tuple"
      ]
     },
     "execution_count": 6,
     "metadata": {},
     "output_type": "execute_result"
    }
   ],
   "source": [
    "type(t)"
   ]
  },
  {
   "cell_type": "code",
   "execution_count": 7,
   "id": "54b8b786",
   "metadata": {},
   "outputs": [],
   "source": [
    "d={\"key1\":\"sudh\",\"key2\":\"ashutosh\"}"
   ]
  },
  {
   "cell_type": "code",
   "execution_count": 9,
   "id": "8003d94f",
   "metadata": {},
   "outputs": [
    {
     "name": "stdout",
     "output_type": "stream",
     "text": [
      "sudh\n",
      "ashutosh\n"
     ]
    }
   ],
   "source": [
    "for i in d:\n",
    "    print(d[i])"
   ]
  },
  {
   "cell_type": "code",
   "execution_count": 10,
   "id": "8148b37f",
   "metadata": {},
   "outputs": [
    {
     "data": {
      "text/plain": [
       "range(0, 9)"
      ]
     },
     "execution_count": 10,
     "metadata": {},
     "output_type": "execute_result"
    }
   ],
   "source": [
    "range(9)"
   ]
  },
  {
   "cell_type": "code",
   "execution_count": 11,
   "id": "b0f0501b",
   "metadata": {},
   "outputs": [
    {
     "data": {
      "text/plain": [
       "range(3, 7)"
      ]
     },
     "execution_count": 11,
     "metadata": {},
     "output_type": "execute_result"
    }
   ],
   "source": [
    "range(3,7)"
   ]
  },
  {
   "cell_type": "code",
   "execution_count": 12,
   "id": "4b1b9512",
   "metadata": {},
   "outputs": [
    {
     "data": {
      "text/plain": [
       "[0, 1, 2, 3, 4, 5, 6, 7, 8]"
      ]
     },
     "execution_count": 12,
     "metadata": {},
     "output_type": "execute_result"
    }
   ],
   "source": [
    "list(range(9))"
   ]
  },
  {
   "cell_type": "code",
   "execution_count": 13,
   "id": "57441f94",
   "metadata": {},
   "outputs": [
    {
     "name": "stdout",
     "output_type": "stream",
     "text": [
      "0\n",
      "1\n",
      "2\n",
      "3\n",
      "4\n",
      "5\n",
      "6\n",
      "7\n",
      "8\n"
     ]
    }
   ],
   "source": [
    "for i in range(9):\n",
    "    print(i)"
   ]
  },
  {
   "cell_type": "code",
   "execution_count": 16,
   "id": "1ace1026",
   "metadata": {},
   "outputs": [
    {
     "data": {
      "text/plain": [
       "[0, 2, 4, 6, 8]"
      ]
     },
     "execution_count": 16,
     "metadata": {},
     "output_type": "execute_result"
    }
   ],
   "source": [
    "list(range(0,9 ,2))"
   ]
  },
  {
   "cell_type": "code",
   "execution_count": 17,
   "id": "af4dcbc0",
   "metadata": {},
   "outputs": [
    {
     "data": {
      "text/plain": [
       "[0, 3, 6]"
      ]
     },
     "execution_count": 17,
     "metadata": {},
     "output_type": "execute_result"
    }
   ],
   "source": [
    "list(range(0,7,3))"
   ]
  },
  {
   "cell_type": "code",
   "execution_count": 18,
   "id": "f5921786",
   "metadata": {},
   "outputs": [
    {
     "data": {
      "text/plain": [
       "[9, 8, 7, 6, 5, 4, 3]"
      ]
     },
     "execution_count": 18,
     "metadata": {},
     "output_type": "execute_result"
    }
   ],
   "source": [
    "list(range(9,2,-1))"
   ]
  },
  {
   "cell_type": "code",
   "execution_count": 26,
   "id": "e9f362f4",
   "metadata": {},
   "outputs": [
    {
     "name": "stdout",
     "output_type": "stream",
     "text": [
      "sudh \n",
      "\n",
      "sudh sudh \n",
      "\n",
      "sudh sudh sudh \n",
      "\n",
      "sudh sudh sudh sudh \n",
      "\n"
     ]
    }
   ],
   "source": [
    "for i in range(4) :\n",
    "    for j in range(0,i+1):\n",
    "      print(\"sudh\",end=\" \")\n",
    "    print(\"\\n\")"
   ]
  },
  {
   "cell_type": "code",
   "execution_count": 326,
   "id": "40c3ab09",
   "metadata": {},
   "outputs": [
    {
     "name": "stdout",
     "output_type": "stream",
     "text": [
      "      ashu \n",
      "    ashu ashu \n",
      "  ashu ashu ashu \n"
     ]
    }
   ],
   "source": [
    "n=3\n",
    "k=n\n",
    "for i in range(n):\n",
    "    k=k-1\n",
    "    print(\"  \"*k,end=\"  \")\n",
    "    for j in range(0,i+1)   : \n",
    "        print(\"ashu\",end=\" \")\n",
    "    print()"
   ]
  },
  {
   "cell_type": "code",
   "execution_count": 73,
   "id": "0e776e62",
   "metadata": {},
   "outputs": [],
   "source": [
    "p=(4,7,8,33,45,67,78,87)"
   ]
  },
  {
   "cell_type": "code",
   "execution_count": 83,
   "id": "05459990",
   "metadata": {},
   "outputs": [
    {
     "name": "stdout",
     "output_type": "stream",
     "text": [
      "0 4\n",
      "1 7\n",
      "2 8\n",
      "3 33\n",
      "4 45\n",
      "5 67\n",
      "6 78\n",
      "7 87\n"
     ]
    }
   ],
   "source": [
    "o=len(p)\n",
    "for i in range(0,o):\n",
    "    \n",
    "    print(i,p[i] )"
   ]
  },
  {
   "cell_type": "code",
   "execution_count": 94,
   "id": "45270462",
   "metadata": {},
   "outputs": [
    {
     "name": "stdout",
     "output_type": "stream",
     "text": [
      "7 87\n",
      "6 78\n",
      "5 67\n",
      "4 45\n",
      "3 33\n",
      "2 8\n",
      "1 7\n",
      "0 4\n"
     ]
    }
   ],
   "source": [
    "o=len(p)\n",
    "for i in range(o-1,-1,-1):\n",
    "    \n",
    "    print(i,p[i] )"
   ]
  },
  {
   "cell_type": "code",
   "execution_count": 87,
   "id": "d7c17552",
   "metadata": {},
   "outputs": [
    {
     "data": {
      "text/plain": [
       "range(5, 0)"
      ]
     },
     "execution_count": 87,
     "metadata": {},
     "output_type": "execute_result"
    }
   ],
   "source": [
    "range(5,0)"
   ]
  },
  {
   "cell_type": "code",
   "execution_count": 88,
   "id": "cf895434",
   "metadata": {},
   "outputs": [
    {
     "ename": "SyntaxError",
     "evalue": "invalid syntax (Temp/ipykernel_8672/643608814.py, line 1)",
     "output_type": "error",
     "traceback": [
      "\u001b[1;36m  File \u001b[1;32m\"C:\\Users\\ashu\\AppData\\Local\\Temp/ipykernel_8672/643608814.py\"\u001b[1;36m, line \u001b[1;32m1\u001b[0m\n\u001b[1;33m    for i in range(5,0)\u001b[0m\n\u001b[1;37m                       ^\u001b[0m\n\u001b[1;31mSyntaxError\u001b[0m\u001b[1;31m:\u001b[0m invalid syntax\n"
     ]
    }
   ],
   "source": [
    "for i in range(5,0)\n",
    " print(i)"
   ]
  },
  {
   "cell_type": "code",
   "execution_count": 95,
   "id": "455f4e26",
   "metadata": {},
   "outputs": [],
   "source": [
    "l=[\"sudh\",\"ashu\",\"nani\",12345,56,67.87,\"ineorn\"]"
   ]
  },
  {
   "cell_type": "code",
   "execution_count": 112,
   "id": "9f326f6c",
   "metadata": {},
   "outputs": [],
   "source": [
    "\n",
    "l2=[]\n",
    "for i in range(0,len(l)):\n",
    "    if((type(l[i])== int)):\n",
    "        l2.append(l[i])\n",
    "    \n",
    "    "
   ]
  },
  {
   "cell_type": "code",
   "execution_count": 113,
   "id": "c4879442",
   "metadata": {},
   "outputs": [
    {
     "data": {
      "text/plain": [
       "[12345, 56]"
      ]
     },
     "execution_count": 113,
     "metadata": {},
     "output_type": "execute_result"
    }
   ],
   "source": [
    "l2"
   ]
  },
  {
   "cell_type": "code",
   "execution_count": 114,
   "id": "84f6185c",
   "metadata": {},
   "outputs": [],
   "source": [
    "d={1:\"ashu\",\"name\":\"ashu\",3:\"1841012140\",\"branch\":\"CSE\"}"
   ]
  },
  {
   "cell_type": "code",
   "execution_count": 117,
   "id": "8a50347e",
   "metadata": {},
   "outputs": [
    {
     "name": "stdout",
     "output_type": "stream",
     "text": [
      "ashu 1\n",
      "1841012140 3\n"
     ]
    }
   ],
   "source": [
    "for i in d:\n",
    "    if(type(i)==int):\n",
    "        print(d[i],i)"
   ]
  },
  {
   "cell_type": "code",
   "execution_count": 138,
   "id": "3438b6b0",
   "metadata": {},
   "outputs": [
    {
     "name": "stdout",
     "output_type": "stream",
     "text": [
      "e 2\n",
      "r 4\n",
      "b 4\n",
      "a 7\n",
      "y 1\n"
     ]
    }
   ],
   "source": [
    "count=0\n",
    "s=\"aaaaaabbbbrrrreeya\"\n",
    "l=set(s)\n",
    "for i in l:\n",
    "    print(i,s.count(i))\n",
    "    "
   ]
  },
  {
   "cell_type": "code",
   "execution_count": 137,
   "id": "3f75d51a",
   "metadata": {},
   "outputs": [
    {
     "data": {
      "text/plain": [
       "{'a', 'b', 'e', 'r', 'y'}"
      ]
     },
     "execution_count": 137,
     "metadata": {},
     "output_type": "execute_result"
    }
   ],
   "source": [
    "l\n"
   ]
  },
  {
   "cell_type": "code",
   "execution_count": 177,
   "id": "e8f37da1",
   "metadata": {},
   "outputs": [],
   "source": [
    "t=(\"ashu\",6,\"iter\",[1,2,5],(6,8,5),{\"key1\":\"ashu\",\"key2\":\"mishra\",6:6})"
   ]
  },
  {
   "cell_type": "code",
   "execution_count": 178,
   "id": "0d06597f",
   "metadata": {},
   "outputs": [
    {
     "name": "stdout",
     "output_type": "stream",
     "text": [
      "6\n",
      "6\n",
      "6\n",
      "6\n"
     ]
    }
   ],
   "source": [
    "for i in t:\n",
    "    if(i==6):\n",
    "        print(i)\n",
    "    if type(i)==list or type(i)==tuple :\n",
    "        for j in i:\n",
    "            if(j==6 or j==\"6\"):\n",
    "                print(j) \n",
    "\n",
    "    if type(i)==dict:\n",
    "        for k,v in i.items():\n",
    "             if(k==6 or v==6  ):\n",
    "                print(k)\n",
    "                print(v)"
   ]
  },
  {
   "cell_type": "code",
   "execution_count": null,
   "id": "2647f91f",
   "metadata": {},
   "outputs": [],
   "source": [
    "#Assignment"
   ]
  },
  {
   "cell_type": "code",
   "execution_count": 198,
   "id": "8cc670a8",
   "metadata": {},
   "outputs": [
    {
     "name": "stdout",
     "output_type": "stream",
     "text": [
      "ineruon \n",
      "\n",
      "ineruon ineruon \n",
      "\n",
      "ineruon ineruon ineruon \n",
      "\n",
      "ineruon ineruon ineruon ineruon \n",
      "\n",
      "ineruon ineruon ineruon ineruon ineruon \n",
      "\n"
     ]
    }
   ],
   "source": [
    "#Q1\n",
    "for i in range(5):\n",
    "    for j in range(0,i+1):\n",
    "        print(\"ineruon\" ,end=\" \" )\n",
    "    print(\"\\n\")            "
   ]
  },
  {
   "cell_type": "code",
   "execution_count": 241,
   "id": "1c12e351",
   "metadata": {},
   "outputs": [
    {
     "name": "stdout",
     "output_type": "stream",
     "text": [
      "        Ashu  \n",
      "     Ashu  Ashu  \n",
      "  Ashu  Ashu  Ashu  \n",
      "     Ashu  Ashu  \n",
      "       Ashu  \n",
      "         \n"
     ]
    }
   ],
   "source": [
    "#Q2\n",
    "n=3\n",
    "k=n\n",
    "l=3\n",
    "p=1\n",
    "for i in range(n):\n",
    "    k=k-1\n",
    "    print(\"   \"*k,end=\"  \")\n",
    "    for j in range(i+1):\n",
    "        print(\"Ashu\",end=\"  \")\n",
    "    print()      \n",
    "for i in range(l,0,-1):\n",
    "    p=p+1\n",
    "    print(\"  \"*p,end=\" \")\n",
    "    for j in range(i-1,0,-1):\n",
    "         print(\"Ashu\",end=\"  \")\n",
    "    print()"
   ]
  },
  {
   "cell_type": "code",
   "execution_count": 308,
   "id": "3ec6b816",
   "metadata": {},
   "outputs": [],
   "source": [
    "\n",
    "l=[\"ineuron\",2,4,[1,2,3,4,7,9],(2,3,4,5,6),(3,4,5,6,7),set([23,4,5,45,4,4,5,45,45,4,5]),{\"k1\":\"sudh\",\"k2\":\"ineuron\",\"k3\":\"kumar\",3:6,7:8},[\"ineuron\",\"datasci\"]]"
   ]
  },
  {
   "cell_type": "code",
   "execution_count": 243,
   "id": "686d1c09",
   "metadata": {},
   "outputs": [
    {
     "name": "stdout",
     "output_type": "stream",
     "text": [
      "[1, 2, 3, 4]\n",
      "['ineourn', 'datasci']\n"
     ]
    }
   ],
   "source": [
    "#q3\n",
    "for i in l:\n",
    "    if(type(i)==list):\n",
    "        print(i)"
   ]
  },
  {
   "cell_type": "code",
   "execution_count": 244,
   "id": "a65ae62e",
   "metadata": {},
   "outputs": [
    {
     "name": "stdout",
     "output_type": "stream",
     "text": [
      "{'k1': 'sudh', 'k2': 'ineuron', 'k3': 'kumar', 3: 6, 7: 8}\n"
     ]
    }
   ],
   "source": [
    "#q4\n",
    "for i in l:\n",
    "    if(type(i)==dict):\n",
    "        print(i)"
   ]
  },
  {
   "cell_type": "code",
   "execution_count": 245,
   "id": "49759276",
   "metadata": {},
   "outputs": [
    {
     "name": "stdout",
     "output_type": "stream",
     "text": [
      "(2, 3, 4, 5, 6)\n",
      "(3, 4, 5, 6, 7)\n"
     ]
    }
   ],
   "source": [
    "#q5\n",
    "for i in l:\n",
    "    if(type(i)==tuple):\n",
    "        print(i)"
   ]
  },
  {
   "cell_type": "code",
   "execution_count": 291,
   "id": "a283c53c",
   "metadata": {},
   "outputs": [
    {
     "name": "stdout",
     "output_type": "stream",
     "text": [
      "2\n",
      "4\n",
      "3\n",
      "6\n",
      "7\n",
      "8\n"
     ]
    }
   ],
   "source": [
    "#q6\n",
    "\n",
    "for i in l:\n",
    "    if(type(i)==int):\n",
    "        print(i)\n",
    "    if(type(i)==dict):\n",
    "        for k,v in i.items():\n",
    "                if(type(k)==int):  print(k)\n",
    "                if(type(v)==int):  print(v)\n",
    "       \n",
    "            "
   ]
  },
  {
   "cell_type": "code",
   "execution_count": 292,
   "id": "00f5fc82",
   "metadata": {},
   "outputs": [
    {
     "name": "stdout",
     "output_type": "stream",
     "text": [
      "30\n"
     ]
    }
   ],
   "source": [
    "#q7\n",
    "sum1=0\n",
    "sum2=0\n",
    "sum3=0\n",
    "for i in l:\n",
    "    if(type(i)==int):\n",
    "        sum1=sum1+i\n",
    "    if(type(i)==dict):\n",
    "        for k,v in i.items():\n",
    "                if(type(k)==int):  sum2=sum2+k\n",
    "                if(type(v)==int):  sum3=sum3+v\n",
    "print(sum1+sum2+sum3)"
   ]
  },
  {
   "cell_type": "code",
   "execution_count": 297,
   "id": "a8a64ad0",
   "metadata": {},
   "outputs": [
    {
     "name": "stdout",
     "output_type": "stream",
     "text": [
      "1\n",
      "3\n",
      "7\n",
      "9\n"
     ]
    }
   ],
   "source": [
    "#q8\n",
    "for i in l:\n",
    "    if(type(i)==list):\n",
    "        for j in i:\n",
    "            if(type(j)==int and j%2!=0):\n",
    "                print(j)"
   ]
  },
  {
   "cell_type": "code",
   "execution_count": 313,
   "id": "5d50235b",
   "metadata": {},
   "outputs": [
    {
     "name": "stdout",
     "output_type": "stream",
     "text": [
      "ineuron\n",
      "ineuron\n",
      "ineuron\n"
     ]
    }
   ],
   "source": [
    "#q9\n",
    "\n",
    "for i in l:\n",
    "    if(i==\"ineuron\"):\n",
    "         print(i)\n",
    "    if(type(i)==list or type(i)==tuple ):\n",
    "        for j in i:\n",
    "            if(j==\"ineuron\"):\n",
    "                print(j)\n",
    "    if(type(i)==dict):\n",
    "        for k,v in i.items():\n",
    "            if(k==\"ineuron\"):\n",
    "                print(k)\n",
    "            if(v==\"ineuron\"):\n",
    "                print(v)"
   ]
  },
  {
   "cell_type": "code",
   "execution_count": 328,
   "id": "c619404d",
   "metadata": {},
   "outputs": [
    {
     "ename": "TypeError",
     "evalue": "unhashable type: 'list'",
     "output_type": "error",
     "traceback": [
      "\u001b[1;31m---------------------------------------------------------------------------\u001b[0m",
      "\u001b[1;31mTypeError\u001b[0m                                 Traceback (most recent call last)",
      "\u001b[1;32m~\\AppData\\Local\\Temp/ipykernel_8672/907655145.py\u001b[0m in \u001b[0;36m<module>\u001b[1;34m\u001b[0m\n\u001b[0;32m      1\u001b[0m \u001b[0mcount\u001b[0m\u001b[1;33m=\u001b[0m\u001b[1;36m0\u001b[0m\u001b[1;33m\u001b[0m\u001b[1;33m\u001b[0m\u001b[0m\n\u001b[0;32m      2\u001b[0m \u001b[1;33m\u001b[0m\u001b[0m\n\u001b[1;32m----> 3\u001b[1;33m \u001b[0mj\u001b[0m\u001b[1;33m=\u001b[0m\u001b[0mset\u001b[0m\u001b[1;33m(\u001b[0m\u001b[0ml\u001b[0m\u001b[1;33m)\u001b[0m\u001b[1;33m\u001b[0m\u001b[1;33m\u001b[0m\u001b[0m\n\u001b[0m\u001b[0;32m      4\u001b[0m \u001b[1;32mfor\u001b[0m \u001b[0mi\u001b[0m \u001b[1;32min\u001b[0m \u001b[0mj\u001b[0m\u001b[1;33m:\u001b[0m\u001b[1;33m\u001b[0m\u001b[1;33m\u001b[0m\u001b[0m\n\u001b[0;32m      5\u001b[0m     \u001b[0mprint\u001b[0m\u001b[1;33m(\u001b[0m\u001b[0mi\u001b[0m\u001b[1;33m,\u001b[0m\u001b[0ml\u001b[0m\u001b[1;33m.\u001b[0m\u001b[0mcount\u001b[0m\u001b[1;33m(\u001b[0m\u001b[0mi\u001b[0m\u001b[1;33m)\u001b[0m\u001b[1;33m)\u001b[0m\u001b[1;33m\u001b[0m\u001b[1;33m\u001b[0m\u001b[0m\n",
      "\u001b[1;31mTypeError\u001b[0m: unhashable type: 'list'"
     ]
    }
   ],
   "source": [
    "count=0\n",
    "\n",
    "j=set(l)\n",
    "for i in j:\n",
    "    print(i,l.count(i))\n",
    "    "
   ]
  },
  {
   "cell_type": "code",
   "execution_count": null,
   "id": "4f7c6af7",
   "metadata": {},
   "outputs": [],
   "source": []
  }
 ],
 "metadata": {
  "kernelspec": {
   "display_name": "Python 3 (ipykernel)",
   "language": "python",
   "name": "python3"
  },
  "language_info": {
   "codemirror_mode": {
    "name": "ipython",
    "version": 3
   },
   "file_extension": ".py",
   "mimetype": "text/x-python",
   "name": "python",
   "nbconvert_exporter": "python",
   "pygments_lexer": "ipython3",
   "version": "3.9.7"
  }
 },
 "nbformat": 4,
 "nbformat_minor": 5
}
