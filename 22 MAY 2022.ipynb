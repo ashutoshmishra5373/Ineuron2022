{
 "cells": [
  {
   "cell_type": "code",
   "execution_count": 3,
   "id": "18ab23ee",
   "metadata": {},
   "outputs": [],
   "source": [
    "a=13\n",
    "if a==14 : b=5\n",
    "else :b=7"
   ]
  },
  {
   "cell_type": "code",
   "execution_count": 4,
   "id": "5e6bc46d",
   "metadata": {},
   "outputs": [
    {
     "data": {
      "text/plain": [
       "7"
      ]
     },
     "execution_count": 4,
     "metadata": {},
     "output_type": "execute_result"
    }
   ],
   "source": [
    "b"
   ]
  },
  {
   "cell_type": "code",
   "execution_count": 8,
   "id": "3789164f",
   "metadata": {},
   "outputs": [
    {
     "name": "stdout",
     "output_type": "stream",
     "text": [
      "ashu\n"
     ]
    }
   ],
   "source": [
    "a=13\n",
    "if a==14 : \n",
    "    pass\n",
    "elif a==13 :\n",
    "    print(\"ashu\")\n",
    "else :\n",
    "    print(\"value of a is\" )"
   ]
  },
  {
   "cell_type": "code",
   "execution_count": 11,
   "id": "90aaee4a",
   "metadata": {},
   "outputs": [
    {
     "name": "stdout",
     "output_type": "stream",
     "text": [
      "300\n",
      "GRE nt clear\n"
     ]
    }
   ],
   "source": [
    "m=int(input())\n",
    "if m<600 : print(\"GRE nt clear\")\n",
    "\n",
    "    if(m<500):print(\"TUffel clr\")\n",
    "        \n",
    "    if(m<400):print(\"try somethinf else\")\n",
    "   \n",
    "else:print(\"gre clr\")  "
   ]
  },
  {
   "cell_type": "code",
   "execution_count": 14,
   "id": "3b92a653",
   "metadata": {},
   "outputs": [
    {
     "name": "stdout",
     "output_type": "stream",
     "text": [
      "enter a floating point no.0\n",
      "entered vl is 0\n"
     ]
    }
   ],
   "source": [
    "val =float(input(\"enter a floating point no.\"))\n",
    "if val>=0:\n",
    "     if val==0:print(\"entered vl is 0\")\n",
    "     \n",
    "     else :print(\"entered val is +ve\")\n",
    "else:\n",
    "    print(\"entered val is -ve\")"
   ]
  },
  {
   "cell_type": "code",
   "execution_count": null,
   "id": "1949d102",
   "metadata": {},
   "outputs": [],
   "source": [
    "a=10\n",
    "if a<10 or a==10:\n",
    "    print(\"value is printed \")"
   ]
  }
 ],
 "metadata": {
  "kernelspec": {
   "display_name": "Python 3 (ipykernel)",
   "language": "python",
   "name": "python3"
  },
  "language_info": {
   "codemirror_mode": {
    "name": "ipython",
    "version": 3
   },
   "file_extension": ".py",
   "mimetype": "text/x-python",
   "name": "python",
   "nbconvert_exporter": "python",
   "pygments_lexer": "ipython3",
   "version": "3.9.7"
  }
 },
 "nbformat": 4,
 "nbformat_minor": 5
}
