{
 "cells": [
  {
   "cell_type": "code",
   "execution_count": 8,
   "id": "8f45f421",
   "metadata": {},
   "outputs": [],
   "source": [
    "s=\"neuoronjj\""
   ]
  },
  {
   "cell_type": "code",
   "execution_count": 9,
   "id": "3b545818",
   "metadata": {},
   "outputs": [
    {
     "data": {
      "text/plain": [
       "'neuoronjj'"
      ]
     },
     "execution_count": 9,
     "metadata": {},
     "output_type": "execute_result"
    }
   ],
   "source": [
    "s\n"
   ]
  },
  {
   "cell_type": "code",
   "execution_count": 10,
   "id": "858bbf84",
   "metadata": {},
   "outputs": [
    {
     "data": {
      "text/plain": [
       "str"
      ]
     },
     "execution_count": 10,
     "metadata": {},
     "output_type": "execute_result"
    }
   ],
   "source": [
    "type(s)"
   ]
  },
  {
   "cell_type": "code",
   "execution_count": 11,
   "id": "7d0ac8a6",
   "metadata": {},
   "outputs": [
    {
     "data": {
      "text/plain": [
       "'n'"
      ]
     },
     "execution_count": 11,
     "metadata": {},
     "output_type": "execute_result"
    }
   ],
   "source": [
    "s[0]"
   ]
  },
  {
   "cell_type": "code",
   "execution_count": 12,
   "id": "b8d943a0",
   "metadata": {},
   "outputs": [
    {
     "data": {
      "text/plain": [
       "'j'"
      ]
     },
     "execution_count": 12,
     "metadata": {},
     "output_type": "execute_result"
    }
   ],
   "source": [
    "s[-1]"
   ]
  },
  {
   "cell_type": "code",
   "execution_count": 13,
   "id": "0c310f92",
   "metadata": {},
   "outputs": [],
   "source": [
    "s1=\"i am a good boy\""
   ]
  },
  {
   "cell_type": "code",
   "execution_count": 14,
   "id": "25fdc3eb",
   "metadata": {},
   "outputs": [
    {
     "data": {
      "text/plain": [
       "'i am '"
      ]
     },
     "execution_count": 14,
     "metadata": {},
     "output_type": "execute_result"
    }
   ],
   "source": [
    "s1[0:5] "
   ]
  },
  {
   "cell_type": "code",
   "execution_count": null,
   "id": "9e4a4bbe",
   "metadata": {},
   "outputs": [],
   "source": [
    "\"it will always ignore upper bound\""
   ]
  },
  {
   "cell_type": "code",
   "execution_count": 18,
   "id": "12037d15",
   "metadata": {},
   "outputs": [
    {
     "data": {
      "text/plain": [
       "'ia  od'"
      ]
     },
     "execution_count": 18,
     "metadata": {},
     "output_type": "execute_result"
    }
   ],
   "source": [
    "s1[0:12:2] "
   ]
  },
  {
   "cell_type": "code",
   "execution_count": 19,
   "id": "d3b6bb4b",
   "metadata": {},
   "outputs": [
    {
     "data": {
      "text/plain": [
       "''"
      ]
     },
     "execution_count": 19,
     "metadata": {},
     "output_type": "execute_result"
    }
   ],
   "source": [
    "s1[0:12:-1]"
   ]
  },
  {
   "cell_type": "code",
   "execution_count": 20,
   "id": "a2570294",
   "metadata": {},
   "outputs": [
    {
     "data": {
      "text/plain": [
       "'b doog a ma '"
      ]
     },
     "execution_count": 20,
     "metadata": {},
     "output_type": "execute_result"
    }
   ],
   "source": [
    "s1[12:0:-1]"
   ]
  },
  {
   "cell_type": "code",
   "execution_count": 22,
   "id": "9d65e891",
   "metadata": {},
   "outputs": [
    {
     "data": {
      "text/plain": [
       "''"
      ]
     },
     "execution_count": 22,
     "metadata": {},
     "output_type": "execute_result"
    }
   ],
   "source": [
    "s1[12:0:1]"
   ]
  },
  {
   "cell_type": "code",
   "execution_count": 23,
   "id": "3dc58a50",
   "metadata": {},
   "outputs": [
    {
     "data": {
      "text/plain": [
       "'i am a good '"
      ]
     },
     "execution_count": 23,
     "metadata": {},
     "output_type": "execute_result"
    }
   ],
   "source": [
    "s1[:-3]"
   ]
  },
  {
   "cell_type": "code",
   "execution_count": 24,
   "id": "5e8e183a",
   "metadata": {},
   "outputs": [
    {
     "data": {
      "text/plain": [
       "'boy'"
      ]
     },
     "execution_count": 24,
     "metadata": {},
     "output_type": "execute_result"
    }
   ],
   "source": [
    "s1[-3:] "
   ]
  },
  {
   "cell_type": "code",
   "execution_count": 27,
   "id": "7f303294",
   "metadata": {},
   "outputs": [
    {
     "data": {
      "text/plain": [
       "'yob doog a ma i'"
      ]
     },
     "execution_count": 27,
     "metadata": {},
     "output_type": "execute_result"
    }
   ],
   "source": [
    "s1[::-1]"
   ]
  },
  {
   "cell_type": "code",
   "execution_count": 29,
   "id": "97e6d34b",
   "metadata": {},
   "outputs": [],
   "source": [
    "s3=\"ashutosh\""
   ]
  },
  {
   "cell_type": "code",
   "execution_count": 31,
   "id": "659902ee",
   "metadata": {},
   "outputs": [
    {
     "data": {
      "text/plain": [
       "'hsotuhsa'"
      ]
     },
     "execution_count": 31,
     "metadata": {},
     "output_type": "execute_result"
    }
   ],
   "source": [
    "s3[::-1]                                                                                                               "
   ]
  },
  {
   "cell_type": "code",
   "execution_count": 32,
   "id": "18c2c6a1",
   "metadata": {},
   "outputs": [
    {
     "data": {
      "text/plain": [
       "'ashutosh1'"
      ]
     },
     "execution_count": 32,
     "metadata": {},
     "output_type": "execute_result"
    }
   ],
   "source": [
    "s3+\"1\""
   ]
  },
  {
   "cell_type": "code",
   "execution_count": 34,
   "id": "c3c631be",
   "metadata": {},
   "outputs": [
    {
     "data": {
      "text/plain": [
       "'ashutosh'"
      ]
     },
     "execution_count": 34,
     "metadata": {},
     "output_type": "execute_result"
    }
   ],
   "source": [
    "s3"
   ]
  },
  {
   "cell_type": "code",
   "execution_count": 36,
   "id": "86efe00d",
   "metadata": {},
   "outputs": [
    {
     "data": {
      "text/plain": [
       "8"
      ]
     },
     "execution_count": 36,
     "metadata": {},
     "output_type": "execute_result"
    }
   ],
   "source": [
    "len(s3) "
   ]
  },
  {
   "cell_type": "code",
   "execution_count": 37,
   "id": "c2fbafb3",
   "metadata": {},
   "outputs": [
    {
     "data": {
      "text/plain": [
       "'ashutoshashutosh'"
      ]
     },
     "execution_count": 37,
     "metadata": {},
     "output_type": "execute_result"
    }
   ],
   "source": [
    "s3*2\n"
   ]
  },
  {
   "cell_type": "code",
   "execution_count": 39,
   "id": "ec65ed05",
   "metadata": {},
   "outputs": [
    {
     "data": {
      "text/plain": [
       "1"
      ]
     },
     "execution_count": 39,
     "metadata": {},
     "output_type": "execute_result"
    }
   ],
   "source": [
    "s3.count(\"a\")"
   ]
  },
  {
   "cell_type": "code",
   "execution_count": 40,
   "id": "4269aa30",
   "metadata": {},
   "outputs": [
    {
     "data": {
      "text/plain": [
       "['as', 'utos', '']"
      ]
     },
     "execution_count": 40,
     "metadata": {},
     "output_type": "execute_result"
    }
   ],
   "source": [
    "s3.split(\"h\")"
   ]
  },
  {
   "cell_type": "code",
   "execution_count": 41,
   "id": "a9a6124e",
   "metadata": {},
   "outputs": [],
   "source": [
    "s4=\"The Four Freedoms is a series of four 1943 oil paintings by the American artist Norman Rockwell (pictured). The paintings—Freedom of Speech, Freedom of Worship, Freedom from Want and Freedom from Fear—refer to Franklin D. Roosevelt's January 1941 Four Freedoms State of the Union address in which he identified essential human rights that should be universally protected, a theme which became part of the United Nation\""
   ]
  },
  {
   "cell_type": "code",
   "execution_count": 42,
   "id": "3f1b4e7d",
   "metadata": {},
   "outputs": [
    {
     "data": {
      "text/plain": [
       "['The',\n",
       " 'Four',\n",
       " 'Freedoms',\n",
       " 'is',\n",
       " 'a',\n",
       " 'series',\n",
       " 'of',\n",
       " 'four',\n",
       " '1943',\n",
       " 'oil',\n",
       " 'paintings',\n",
       " 'by',\n",
       " 'the',\n",
       " 'American',\n",
       " 'artist',\n",
       " 'Norman',\n",
       " 'Rockwell',\n",
       " '(pictured).',\n",
       " 'The',\n",
       " 'paintings—Freedom',\n",
       " 'of',\n",
       " 'Speech,',\n",
       " 'Freedom',\n",
       " 'of',\n",
       " 'Worship,',\n",
       " 'Freedom',\n",
       " 'from',\n",
       " 'Want',\n",
       " 'and',\n",
       " 'Freedom',\n",
       " 'from',\n",
       " 'Fear—refer',\n",
       " 'to',\n",
       " 'Franklin',\n",
       " 'D.',\n",
       " \"Roosevelt's\",\n",
       " 'January',\n",
       " '1941',\n",
       " 'Four',\n",
       " 'Freedoms',\n",
       " 'State',\n",
       " 'of',\n",
       " 'the',\n",
       " 'Union',\n",
       " 'address',\n",
       " 'in',\n",
       " 'which',\n",
       " 'he',\n",
       " 'identified',\n",
       " 'essential',\n",
       " 'human',\n",
       " 'rights',\n",
       " 'that',\n",
       " 'should',\n",
       " 'be',\n",
       " 'universally',\n",
       " 'protected,',\n",
       " 'a',\n",
       " 'theme',\n",
       " 'which',\n",
       " 'became',\n",
       " 'part',\n",
       " 'of',\n",
       " 'the',\n",
       " 'United',\n",
       " 'Nation']"
      ]
     },
     "execution_count": 42,
     "metadata": {},
     "output_type": "execute_result"
    }
   ],
   "source": [
    "s4.split(\" \")"
   ]
  },
  {
   "cell_type": "code",
   "execution_count": 43,
   "id": "a79afe16",
   "metadata": {},
   "outputs": [
    {
     "data": {
      "text/plain": [
       "\"THE FOUR FREEDOMS IS A SERIES OF FOUR 1943 OIL PAINTINGS BY THE AMERICAN ARTIST NORMAN ROCKWELL (PICTURED). THE PAINTINGS—FREEDOM OF SPEECH, FREEDOM OF WORSHIP, FREEDOM FROM WANT AND FREEDOM FROM FEAR—REFER TO FRANKLIN D. ROOSEVELT'S JANUARY 1941 FOUR FREEDOMS STATE OF THE UNION ADDRESS IN WHICH HE IDENTIFIED ESSENTIAL HUMAN RIGHTS THAT SHOULD BE UNIVERSALLY PROTECTED, A THEME WHICH BECAME PART OF THE UNITED NATION\""
      ]
     },
     "execution_count": 43,
     "metadata": {},
     "output_type": "execute_result"
    }
   ],
   "source": [
    "s4.upper()\n"
   ]
  },
  {
   "cell_type": "code",
   "execution_count": 44,
   "id": "de08883d",
   "metadata": {},
   "outputs": [
    {
     "data": {
      "text/plain": [
       "\"tHE fOUR fREEDOMS IS A SERIES OF FOUR 1943 OIL PAINTINGS BY THE aMERICAN ARTIST nORMAN rOCKWELL (PICTURED). tHE PAINTINGS—fREEDOM OF sPEECH, fREEDOM OF wORSHIP, fREEDOM FROM wANT AND fREEDOM FROM fEAR—REFER TO fRANKLIN d. rOOSEVELT'S jANUARY 1941 fOUR fREEDOMS sTATE OF THE uNION ADDRESS IN WHICH HE IDENTIFIED ESSENTIAL HUMAN RIGHTS THAT SHOULD BE UNIVERSALLY PROTECTED, A THEME WHICH BECAME PART OF THE uNITED nATION\""
      ]
     },
     "execution_count": 44,
     "metadata": {},
     "output_type": "execute_result"
    }
   ],
   "source": [
    "s4.swapcase()"
   ]
  },
  {
   "cell_type": "code",
   "execution_count": 45,
   "id": "f886efc2",
   "metadata": {},
   "outputs": [
    {
     "data": {
      "text/plain": [
       "<reversed at 0x1eba0e592b0>"
      ]
     },
     "execution_count": 45,
     "metadata": {},
     "output_type": "execute_result"
    }
   ],
   "source": [
    "reversed(s4)"
   ]
  },
  {
   "cell_type": "code",
   "execution_count": 46,
   "id": "61d756a6",
   "metadata": {},
   "outputs": [
    {
     "data": {
      "text/plain": [
       "\"noitaN detinU eht fo trap emaceb hcihw emeht a ,detcetorp yllasrevinu eb dluohs taht sthgir namuh laitnesse deifitnedi eh hcihw ni sserdda noinU eht fo etatS smodeerF ruoF 1491 yraunaJ s'tlevesooR .D nilknarF ot refer—raeF morf modeerF dna tnaW morf modeerF ,pihsroW fo modeerF ,hceepS fo modeerF—sgnitniap ehT .)derutcip( llewkcoR namroN tsitra naciremA eht yb sgnitniap lio 3491 ruof fo seires a si smodeerF ruoF ehT\""
      ]
     },
     "execution_count": 46,
     "metadata": {},
     "output_type": "execute_result"
    }
   ],
   "source": [
    "\"\".join(reversed(s4))"
   ]
  },
  {
   "cell_type": "code",
   "execution_count": 50,
   "id": "f2976b60",
   "metadata": {},
   "outputs": [],
   "source": [
    "s5=\"    fa no f raina   \""
   ]
  },
  {
   "cell_type": "code",
   "execution_count": 51,
   "id": "8939944e",
   "metadata": {},
   "outputs": [
    {
     "data": {
      "text/plain": [
       "'fa no f raina'"
      ]
     },
     "execution_count": 51,
     "metadata": {},
     "output_type": "execute_result"
    }
   ],
   "source": [
    "s5.strip()"
   ]
  },
  {
   "cell_type": "code",
   "execution_count": 52,
   "id": "fa2347a3",
   "metadata": {},
   "outputs": [
    {
     "data": {
      "text/plain": [
       "'fa no f raina   '"
      ]
     },
     "execution_count": 52,
     "metadata": {},
     "output_type": "execute_result"
    }
   ],
   "source": [
    "s5.lstrip()"
   ]
  },
  {
   "cell_type": "code",
   "execution_count": 54,
   "id": "27a80a77",
   "metadata": {},
   "outputs": [
    {
     "data": {
      "text/plain": [
       "'    fa no f raina'"
      ]
     },
     "execution_count": 54,
     "metadata": {},
     "output_type": "execute_result"
    }
   ],
   "source": [
    "s5.rstrip()"
   ]
  },
  {
   "cell_type": "code",
   "execution_count": 55,
   "id": "b2b8e3d3",
   "metadata": {},
   "outputs": [
    {
     "data": {
      "text/plain": [
       "'a1s1h1u1t1o1s1h'"
      ]
     },
     "execution_count": 55,
     "metadata": {},
     "output_type": "execute_result"
    }
   ],
   "source": [
    "\"1\".join(s3)"
   ]
  },
  {
   "cell_type": "code",
   "execution_count": 56,
   "id": "a1d6aab8",
   "metadata": {},
   "outputs": [
    {
     "data": {
      "text/plain": [
       "True"
      ]
     },
     "execution_count": 56,
     "metadata": {},
     "output_type": "execute_result"
    }
   ],
   "source": [
    "s3.islower()"
   ]
  },
  {
   "cell_type": "code",
   "execution_count": 57,
   "id": "262b1331",
   "metadata": {},
   "outputs": [
    {
     "data": {
      "text/plain": [
       "False"
      ]
     },
     "execution_count": 57,
     "metadata": {},
     "output_type": "execute_result"
    }
   ],
   "source": [
    "s3.isspace()"
   ]
  },
  {
   "cell_type": "code",
   "execution_count": 58,
   "id": "3586f207",
   "metadata": {},
   "outputs": [
    {
     "data": {
      "text/plain": [
       "True"
      ]
     },
     "execution_count": 58,
     "metadata": {},
     "output_type": "execute_result"
    }
   ],
   "source": [
    "s3.isalnum()"
   ]
  },
  {
   "cell_type": "code",
   "execution_count": 60,
   "id": "69b3e77f",
   "metadata": {},
   "outputs": [],
   "source": [
    "s8=\" s \""
   ]
  },
  {
   "cell_type": "code",
   "execution_count": 62,
   "id": "448c4a07",
   "metadata": {},
   "outputs": [
    {
     "data": {
      "text/plain": [
       "'@@@@@@@@ s @@@@@@@@@'"
      ]
     },
     "execution_count": 62,
     "metadata": {},
     "output_type": "execute_result"
    }
   ],
   "source": [
    "s8.center(20,\"@\")"
   ]
  },
  {
   "cell_type": "code",
   "execution_count": 66,
   "id": "1ca163aa",
   "metadata": {},
   "outputs": [],
   "source": [
    "s9=\"ashutosh\\tmishra\""
   ]
  },
  {
   "cell_type": "code",
   "execution_count": 67,
   "id": "0d4e8754",
   "metadata": {},
   "outputs": [
    {
     "data": {
      "text/plain": [
       "'ashutosh        mishra'"
      ]
     },
     "execution_count": 67,
     "metadata": {},
     "output_type": "execute_result"
    }
   ],
   "source": [
    "s9.expandtabs()"
   ]
  },
  {
   "cell_type": "code",
   "execution_count": null,
   "id": "e0a09d2a",
   "metadata": {},
   "outputs": [],
   "source": [
    "#************************Assignment*******************************************"
   ]
  },
  {
   "cell_type": "code",
   "execution_count": 68,
   "id": "39dcdf57",
   "metadata": {},
   "outputs": [],
   "source": [
    "s10=\"This is my first Python programming clss and i am learning python string and its function\"a"
   ]
  },
  {
   "cell_type": "code",
   "execution_count": 69,
   "id": "ec21294a",
   "metadata": {},
   "outputs": [
    {
     "data": {
      "text/plain": [
       "'h   r tnrrmgl d  ai tntna sutn'"
      ]
     },
     "execution_count": 69,
     "metadata": {},
     "output_type": "execute_result"
    }
   ],
   "source": [
    "s10[1:300:3]"
   ]
  },
  {
   "cell_type": "code",
   "execution_count": 70,
   "id": "0f266bc8",
   "metadata": {},
   "outputs": [
    {
     "data": {
      "text/plain": [
       "'noitcnuf sti dna gnirts nohtyp gninrael ma i dna sslc gnimmargorp nohtyP tsrif ym si sih'"
      ]
     },
     "execution_count": 70,
     "metadata": {},
     "output_type": "execute_result"
    }
   ],
   "source": [
    "s10[300:0:-1]"
   ]
  },
  {
   "cell_type": "code",
   "execution_count": 71,
   "id": "34638875",
   "metadata": {},
   "outputs": [
    {
     "data": {
      "text/plain": [
       "['THIS',\n",
       " 'IS',\n",
       " 'MY',\n",
       " 'FIRST',\n",
       " 'PYTHON',\n",
       " 'PROGRAMMING',\n",
       " 'CLSS',\n",
       " 'AND',\n",
       " 'I',\n",
       " 'AM',\n",
       " 'LEARNING',\n",
       " 'PYTHON',\n",
       " 'STRING',\n",
       " 'AND',\n",
       " 'ITS',\n",
       " 'FUNCTION']"
      ]
     },
     "execution_count": 71,
     "metadata": {},
     "output_type": "execute_result"
    }
   ],
   "source": [
    "s10=s10.upper()\n",
    "s10.split(\" \")\n"
   ]
  },
  {
   "cell_type": "code",
   "execution_count": 72,
   "id": "b31e4510",
   "metadata": {},
   "outputs": [],
   "source": [
    "s10=s10.lower()"
   ]
  },
  {
   "cell_type": "code",
   "execution_count": 73,
   "id": "20ea6c5a",
   "metadata": {},
   "outputs": [
    {
     "data": {
      "text/plain": [
       "'this is my first python programming clss and i am learning python string and its function'"
      ]
     },
     "execution_count": 73,
     "metadata": {},
     "output_type": "execute_result"
    }
   ],
   "source": [
    "s10\n"
   ]
  },
  {
   "cell_type": "code",
   "execution_count": 74,
   "id": "9721f8a7",
   "metadata": {},
   "outputs": [
    {
     "data": {
      "text/plain": [
       "'This is my first python programming clss and i am learning python string and its function'"
      ]
     },
     "execution_count": 74,
     "metadata": {},
     "output_type": "execute_result"
    }
   ],
   "source": [
    "s10.capitalize()"
   ]
  },
  {
   "cell_type": "code",
   "execution_count": null,
   "id": "ebc82eed",
   "metadata": {},
   "outputs": [],
   "source": [
    "isalnum is used to check whether the string is alphabetic or numeric\n",
    "isalpha is used to check whether the string is alphabetic or not"
   ]
  },
  {
   "cell_type": "code",
   "execution_count": 78,
   "id": "a16d7c76",
   "metadata": {},
   "outputs": [
    {
     "data": {
      "text/plain": [
       "'ashutosh        mishra'"
      ]
     },
     "execution_count": 78,
     "metadata": {},
     "output_type": "execute_result"
    }
   ],
   "source": [
    "# examplw of expandtab\n",
    "s11=\"ashutosh\\tmishra\"\n",
    "s11.expandtabs()\n"
   ]
  },
  {
   "cell_type": "code",
   "execution_count": 79,
   "id": "d159758b",
   "metadata": {},
   "outputs": [
    {
     "data": {
      "text/plain": [
       "'Ashutosh Mishra'"
      ]
     },
     "execution_count": 79,
     "metadata": {},
     "output_type": "execute_result"
    }
   ],
   "source": [
    "#example of lstrip strip and r strip\n",
    "s12=\" Ashutosh Mishra \"\n",
    "s12.strip()"
   ]
  },
  {
   "cell_type": "code",
   "execution_count": 80,
   "id": "2e24819a",
   "metadata": {},
   "outputs": [
    {
     "data": {
      "text/plain": [
       "'Ashutosh Mishra '"
      ]
     },
     "execution_count": 80,
     "metadata": {},
     "output_type": "execute_result"
    }
   ],
   "source": [
    "s12.lstrip()"
   ]
  },
  {
   "cell_type": "code",
   "execution_count": 81,
   "id": "431bfa36",
   "metadata": {},
   "outputs": [
    {
     "data": {
      "text/plain": [
       "' Ashutosh Mishra'"
      ]
     },
     "execution_count": 81,
     "metadata": {},
     "output_type": "execute_result"
    }
   ],
   "source": [
    "s12.rstrip()"
   ]
  },
  {
   "cell_type": "code",
   "execution_count": 82,
   "id": "b46a9378",
   "metadata": {},
   "outputs": [
    {
     "data": {
      "text/plain": [
       "'oAshutoshoMishrao'"
      ]
     },
     "execution_count": 82,
     "metadata": {},
     "output_type": "execute_result"
    }
   ],
   "source": [
    "#replaCE A CHARCTER BY ANOTHER CHAR IN STRING\n",
    "\n",
    "s12.replace(\" \",\"o\")"
   ]
  },
  {
   "cell_type": "code",
   "execution_count": 84,
   "id": "2c6263a5",
   "metadata": {},
   "outputs": [
    {
     "data": {
      "text/plain": [
       "'**** Ashutosh Mishra ****'"
      ]
     },
     "execution_count": 84,
     "metadata": {},
     "output_type": "execute_result"
    }
   ],
   "source": [
    "#example of string center\n",
    "s12.center(25,\"*\")"
   ]
  },
  {
   "cell_type": "code",
   "execution_count": null,
   "id": "9d8f9304",
   "metadata": {},
   "outputs": [],
   "source": []
  }
 ],
 "metadata": {
  "kernelspec": {
   "display_name": "Python 3 (ipykernel)",
   "language": "python",
   "name": "python3"
  },
  "language_info": {
   "codemirror_mode": {
    "name": "ipython",
    "version": 3
   },
   "file_extension": ".py",
   "mimetype": "text/x-python",
   "name": "python",
   "nbconvert_exporter": "python",
   "pygments_lexer": "ipython3",
   "version": "3.9.7"
  }
 },
 "nbformat": 4,
 "nbformat_minor": 5
}
